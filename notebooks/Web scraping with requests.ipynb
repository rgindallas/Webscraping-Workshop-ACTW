{
 "cells": [
  {
   "cell_type": "markdown",
   "metadata": {},
   "source": [
    "<h3>Let's have fun with webscraping"
   ]
  },
  {
   "cell_type": "markdown",
   "metadata": {},
   "source": [
    "If you'd like to follow along, notebooks and instructions at: *https://github.com/wsuen/Webscraping-Workshop-ACTW*"
   ]
  },
  {
   "cell_type": "markdown",
   "metadata": {},
   "source": [
    "<img src=\"imgs/catscatscats.png\" =60x60>"
   ]
  },
  {
   "cell_type": "markdown",
   "metadata": {},
   "source": [
    "<b>How to pull data"
   ]
  },
  {
   "cell_type": "markdown",
   "metadata": {},
   "source": [
    "* Find out which URL/s you want data from.\n",
    "\n",
    "* Find out how the data is stored on the webpage.\n",
    "\n",
    "* request.get(), then let the fun begin!\n",
    "\n"
   ]
  },
  {
   "cell_type": "code",
   "execution_count": 2,
   "metadata": {
    "collapsed": false
   },
   "outputs": [
    {
     "data": {
      "text/plain": [
       "200"
      ]
     },
     "execution_count": 2,
     "metadata": {},
     "output_type": "execute_result"
    }
   ],
   "source": [
    "import requests\n",
    "\n",
    "my_example_domain = \"http://placekitten.com/\"\n",
    "\n",
    "r = requests.get(my_example_domain)\n",
    "\n",
    "r.status_code"
   ]
  },
  {
   "cell_type": "code",
   "execution_count": null,
   "metadata": {
    "collapsed": false,
    "scrolled": true
   },
   "outputs": [],
   "source": [
    "#doesn't look very nice and human readable\n",
    "r.content"
   ]
  },
  {
   "cell_type": "markdown",
   "metadata": {},
   "source": [
    "Beautiful Soup to the rescue!"
   ]
  },
  {
   "cell_type": "code",
   "execution_count": 3,
   "metadata": {
    "collapsed": false
   },
   "outputs": [],
   "source": [
    "from bs4 import BeautifulSoup\n",
    "\n",
    "my_soup = BeautifulSoup(r.content, \"html.parser\")"
   ]
  },
  {
   "cell_type": "code",
   "execution_count": null,
   "metadata": {
    "collapsed": false
   },
   "outputs": [],
   "source": [
    "print my_soup.prettify()"
   ]
  },
  {
   "cell_type": "code",
   "execution_count": null,
   "metadata": {
    "collapsed": false,
    "scrolled": false
   },
   "outputs": [],
   "source": [
    "#print out img elements in my html\n",
    "for cat in my_soup.findAll(\"img\"):\n",
    "    #print cat\n",
    "    print cat.get(\"src\")"
   ]
  },
  {
   "cell_type": "code",
   "execution_count": null,
   "metadata": {
    "collapsed": true
   },
   "outputs": [],
   "source": [
    "my_soup.findAll?"
   ]
  },
  {
   "cell_type": "code",
   "execution_count": null,
   "metadata": {
    "collapsed": true
   },
   "outputs": [],
   "source": []
  },
  {
   "cell_type": "markdown",
   "metadata": {
    "collapsed": true
   },
   "source": [
    "<b>How to save data"
   ]
  },
  {
   "cell_type": "markdown",
   "metadata": {},
   "source": [
    "<img src=\"imgs/cats_img.png\">"
   ]
  },
  {
   "cell_type": "markdown",
   "metadata": {},
   "source": [
    "Use case: I need to save all cat pictures to a folder, so I can look at them even if the internet is down."
   ]
  },
  {
   "cell_type": "code",
   "execution_count": null,
   "metadata": {
    "collapsed": false
   },
   "outputs": [],
   "source": [
    "from PIL import Image\n",
    "\n",
    "cat_index = 0\n",
    "for cat in my_soup.findAll(\"img\"):\n",
    "    img_url = cat.get(\"src\")\n",
    "    img_request = requests.get(img_url)\n",
    "    with open(\"saved_cats/cat_%d.png\" %cat_index, \"w\") as wf:\n",
    "        wf.write(img_request.content)\n",
    "    cat_index += 1\n",
    "    \n",
    "print \"I saved %d cat pictures!\" %cat_index"
   ]
  },
  {
   "cell_type": "markdown",
   "metadata": {},
   "source": [
    "<b>How to play nicely "
   ]
  },
  {
   "cell_type": "markdown",
   "metadata": {},
   "source": [
    "* Some sites get mad if you scrape their data.\n",
    "\n",
    "* Some sites are ok with it, on certain conditions.\n",
    "\n",
    "* When in doubt, sites will generally have a ToS page.\n"
   ]
  },
  {
   "cell_type": "code",
   "execution_count": null,
   "metadata": {
    "collapsed": true
   },
   "outputs": [],
   "source": []
  },
  {
   "cell_type": "markdown",
   "metadata": {
    "collapsed": true
   },
   "source": [
    "<b>Additional Examples"
   ]
  },
  {
   "cell_type": "markdown",
   "metadata": {},
   "source": [
    "What about a different, more complex site? Many types of elements, more elaborate formatting. Let's also pass in a header saying we're a robot, just to be good citizens.\n",
    "\n",
    "Headlines change all the time, so news sites, classifieds info, and other sites with frequently updating content are good candidates for automation."
   ]
  },
  {
   "cell_type": "code",
   "execution_count": 19,
   "metadata": {
    "collapsed": false
   },
   "outputs": [],
   "source": [
    "headers = {\"User-agent\" : \"iambot\"}\n",
    "nyt_r = requests.get(\"https://www.nytimes.com/\", headers=headers)"
   ]
  },
  {
   "cell_type": "code",
   "execution_count": 20,
   "metadata": {
    "collapsed": false
   },
   "outputs": [
    {
     "data": {
      "text/plain": [
       "200"
      ]
     },
     "execution_count": 20,
     "metadata": {},
     "output_type": "execute_result"
    }
   ],
   "source": [
    "nyt_r.status_code"
   ]
  },
  {
   "cell_type": "code",
   "execution_count": 21,
   "metadata": {
    "collapsed": false
   },
   "outputs": [],
   "source": [
    "nyt_soup = BeautifulSoup(nyt_r.content, \"html.parser\")"
   ]
  },
  {
   "cell_type": "code",
   "execution_count": 34,
   "metadata": {
    "collapsed": false,
    "scrolled": true
   },
   "outputs": [
    {
     "name": "stdout",
     "output_type": "stream",
     "text": [
      "United States Politics and Government,Trump, Donald J,Mueller, Robert S III,United States Politics and Government,Special Prosecutors (Independent Counsel),United States Politics and Government,Mueller, Robert S III,Federal Bureau of Investigation,Special Prosecutors (Independent Counsel),Rosenstein, Rod J,Mueller, Robert S III,United States Politics and Government,Justice Department,United States Politics and Government,Comey, James B,Trump, Donald J,Rosenstein, Rod J,United States Politics and Government,United States Politics and Government,Mueller, Robert S III,Justice Department,Federal Bureau of Investigation,Trump, Donald J,Rosenstein, Rod J,Russia,Presidential Election of 2016,Comey, James B,United States Politics and Government,Federal Bureau of Investigation,Comey, James B,Republican Party,Trump, Donald J,Flynn, Michael T,House of Representatives,Senate,United States Politics and Government,Trump, Donald J,Impeachment,Special Prosecutors (Independent Counsel),Flynn, Michael T,Comey, James B,Mueller, Robert S III,Russia,United States Politics and Government,United States Politics and Government,Trump, Donald J,Times Square and 42nd Street (Manhattan, NY),New York City,Times Square and 42nd Street (Manhattan, NY),Traffic Accidents and Safety,United States International Relations,Muslims and Islam,Trump, Donald J,Saudi Arabia,Persian Gulf,United States,Trump, Donald J,Israel,Palestinians,Netanyahu, Benjamin,Abbas, Mahmoud,United States International Relations,United States Politics and Government,Trump, Donald J,Illegal Immigration,Executive Orders and Memorandums,Immigration and Customs Enforcement (US),Trump, Donald J,United States Politics and Government,Rock Climbing,Joshua Tree National Park (Calif),Disabilities,Syria,Assad, Bashar al-,Islamic State in Iraq and Syria (ISIS),United States Defense and Military Forces,Defense Department,North American Free Trade Agreement,Lighthizer, Robert E,United States Politics and Government,Murders, Attempted Murders and Homicides,Politics and Government,Amri, Anis (1992- ),Berlin (Germany),Police Brutality, Misconduct and Shootings,Terrorism,Ebola Virus,Vaccination and Immunization,World Health Organization,Rollin, Pierre E,Congo, Democratic Republic of (Congo-Kinshasa),Central African Republic,Facebook Inc,European Union,Fines (Penalties),Antitrust Laws and Competition Issues,WhatsApp Inc,Mergers, Acquisitions and Divestitures,Social Media,Instant Messaging,Computers and the Internet,European Commission,California Today,Airlines and Airplanes,Luggage and Packing,Travel and Vacations,Business Travel,Sessions, Jefferson B III,States (US),Sentences (Criminal),Prisons and Prisoners,Mandatory Sentencing,Law and Legislation,Crime and Criminals,Mandatory Sentencing,Drug Abuse and Traffic,Sentences (Criminal),Holder, Eric H Jr,Sessions, Jefferson B III,Cornell, Chris (1964- ),Pop and Rock Music,Deaths (Obituaries),Soundgarden (Music Group),Audioslave,Ganim, Joseph P,Elections, Governors,Ex-Convicts,Connecticut,Elections, Mayors,Bridgeport (Conn),Corruption (Institutional),Greenhouse Gas Emissions,Australia,Carbon Caps and Emissions Trading Programs,Youth,Coal,Theater,King Kong (Play),Thorne, Jack (1978- ),Pavlovic, Carmen,McOnie, Drew,de Vries, Marius,Perfect, Eddie,Music,Harding, Aldous,Party (Album),Movies,Alien: Covenant (Movie),Scott, Ridley,Books and Literature,Tambor, Jeffrey,Horses,Therapy and Rehabilitation,Los Angeles (Calif),Compton Jr. Posse,United States Politics and Government\n"
     ]
    }
   ],
   "source": [
    "#there's a lot here. Let's just find some content tags for trending topics.\n",
    "for item in nyt_soup.findAll(\"meta\"):\n",
    "    if item.get(\"name\") == \"keywords\":\n",
    "        print item.get(\"content\")\n",
    "        keywords_string = item.get(\"content\")"
   ]
  },
  {
   "cell_type": "raw",
   "metadata": {},
   "source": [
    "For comparison, here were NYT keywords from 3/18/2017:\n",
    "\n",
    "United States Politics and Government,Trump, Donald J,Mueller, Robert S III,United States Politics and Government,Special Prosecutors (Independent Counsel),United States Politics and Government,Mueller, Robert S III,Federal Bureau of Investigation,Special Prosecutors (Independent Counsel),Rosenstein, Rod J,Mueller, Robert S III,United States Politics and Government,Justice Department,Flynn, Michael T,Trump, Donald J,United States Politics and Government,Justice Department,Van Grack, Brandon L,Alptekin, Ekim,Turkey,Inovo BV,Russia,Espionage and Intelligence Services,Lobbying and Lobbyists,United States Politics and Government,United States Politics and Government,Mueller, Robert S III,Justice Department,Federal Bureau of Investigation,Trump, Donald J,Rosenstein, Rod J,Russia,Presidential Election of 2016,Comey, James B,United States Politics and Government,Federal Bureau of Investigation,Comey, James B,Republican Party,Trump, Donald J,Flynn, Michael T,House of Representatives,Senate,United States Politics and Government,Trump, Donald J,Impeachment,Special Prosecutors (Independent Counsel),Flynn, Michael T,Comey, James B,Mueller, Robert S III,Russia,United States Politics and Government,United States Politics and Government,Trump, Donald J,Times Square and 42nd Street (Manhattan, NY),New York City,Times Square and 42nd Street (Manhattan, NY),Traffic Accidents and Safety,United States International Relations,Muslims and Islam,Trump, Donald J,Saudi Arabia,Persian Gulf,United States,Trump, Donald J,Israel,Palestinians,Netanyahu, Benjamin,Abbas, Mahmoud,United States International Relations,United States Politics and Government,Trump, Donald J,Illegal Immigration,Executive Orders and Memorandums,Immigration and Customs Enforcement (US),Trump, Donald J,United States Politics and Government,Rock Climbing,Joshua Tree National Park (Calif),Disabilities,Syria,Assad, Bashar al-,Islamic State in Iraq and Syria (ISIS),United States Defense and Military Forces,Defense Department,North American Free Trade Agreement,Lighthizer, Robert E,United States Politics and Government,Murders, Attempted Murders and Homicides,Politics and Government,Amri, Anis (1992- ),Berlin (Germany),Police Brutality, Misconduct and Shootings,Terrorism,Ebola Virus,Vaccination and Immunization,World Health Organization,Rollin, Pierre E,Congo, Democratic Republic of (Congo-Kinshasa),Central African Republic,Facebook Inc,European Union,Fines (Penalties),Antitrust Laws and Competition Issues,WhatsApp Inc,Mergers, Acquisitions and Divestitures,Social Media,Instant Messaging,Computers and the Internet,European Commission,California Today,Airlines and Airplanes,Luggage and Packing,Travel and Vacations,Business Travel,Sessions, Jefferson B III,States (US),Sentences (Criminal),Prisons and Prisoners,Mandatory Sentencing,Law and Legislation,Crime and Criminals,Mandatory Sentencing,Drug Abuse and Traffic,Sentences (Criminal),Holder, Eric H Jr,Sessions, Jefferson B III,Cornell, Chris (1964- ),Pop and Rock Music,Deaths (Obituaries),Soundgarden (Music Group),Audioslave,Ganim, Joseph P,Elections, Governors,Ex-Convicts,Connecticut,Elections, Mayors,Bridgeport (Conn),Corruption (Institutional),Greenhouse Gas Emissions,Australia,Carbon Caps and Emissions Trading Programs,Youth,Coal,Theater,King Kong (Play),Thorne, Jack (1978- ),Pavlovic, Carmen,McOnie, Drew,de Vries, Marius,Perfect, Eddie,Music,Harding, Aldous,Party (Album),Movies,Alien: Covenant (Movie),Scott, Ridley,Books and Literature,Tambor, Jeffrey,Horses,Therapy and Rehabilitation,Los Angeles (Calif),Compton Jr. Posse,United States Politics and Government"
   ]
  },
  {
   "cell_type": "code",
   "execution_count": 46,
   "metadata": {
    "collapsed": false,
    "scrolled": true
   },
   "outputs": [
    {
     "data": {
      "text/plain": [
       "{u'Abbas Mahmoud',\n",
       " u'Airlines and Airplanes',\n",
       " u'Alien: Covenant (Movie)',\n",
       " u'Amri Anis (1992- )',\n",
       " u'Antitrust Laws and Competition Issues',\n",
       " u'Assad Bashar al-',\n",
       " u'Audioslave',\n",
       " u'Australia',\n",
       " u'Berlin (Germany)',\n",
       " u'Books and Literature',\n",
       " u'Bridgeport (Conn)',\n",
       " u'Business Travel',\n",
       " u'California Today',\n",
       " u'Carbon Caps and Emissions Trading Programs',\n",
       " u'Central African Republic',\n",
       " u'Coal',\n",
       " u'Comey James B',\n",
       " u'Compton Jr. Posse',\n",
       " u'Computers and the Internet',\n",
       " u'Congo Democratic Republic of (Congo-Kinshasa)',\n",
       " u'Connecticut',\n",
       " u'Cornell Chris (1964- )',\n",
       " u'Corruption (Institutional)',\n",
       " u'Crime and Criminals',\n",
       " u'Deaths (Obituaries)',\n",
       " u'Defense Department',\n",
       " u'Disabilities',\n",
       " u'Drug Abuse and Traffic',\n",
       " u'Ebola Virus',\n",
       " u'Elections Governors',\n",
       " u'Elections Mayors',\n",
       " u'European Commission',\n",
       " u'European Union',\n",
       " u'Ex-Convicts',\n",
       " u'Executive Orders and Memorandums',\n",
       " u'Facebook Inc',\n",
       " u'Federal Bureau of Investigation',\n",
       " u'Fines (Penalties)',\n",
       " u'Flynn Michael T',\n",
       " u'Ganim Joseph P',\n",
       " u'Greenhouse Gas Emissions',\n",
       " u'Harding Aldous',\n",
       " u'Holder Eric H Jr',\n",
       " u'Horses',\n",
       " u'House of Representatives',\n",
       " u'Illegal Immigration',\n",
       " u'Immigration and Customs Enforcement (US)',\n",
       " u'Impeachment',\n",
       " u'Instant Messaging',\n",
       " u'Islamic State in Iraq and Syria (ISIS)',\n",
       " u'Israel',\n",
       " u'Joshua Tree National Park (Calif)',\n",
       " u'Justice Department',\n",
       " u'King Kong (Play)',\n",
       " u'Law and Legislation',\n",
       " u'Lighthizer Robert E',\n",
       " u'Los Angeles (Calif)',\n",
       " u'Luggage and Packing',\n",
       " u'Mandatory Sentencing',\n",
       " u'McOnie Drew',\n",
       " u'Mergers Acquisitions and Divestitures',\n",
       " u'Movies',\n",
       " u'Mueller Robert S III',\n",
       " u'Murders Attempted Murders and Homicides',\n",
       " u'Music',\n",
       " u'Muslims and Islam',\n",
       " u'Netanyahu Benjamin',\n",
       " u'New York City',\n",
       " u'North American Free Trade Agreement',\n",
       " u'Palestinians',\n",
       " u'Party (Album)',\n",
       " u'Pavlovic Carmen',\n",
       " u'Perfect Eddie',\n",
       " u'Persian Gulf',\n",
       " u'Police Brutality Misconduct and Shootings',\n",
       " u'Politics and Government',\n",
       " u'Pop and Rock Music',\n",
       " u'Presidential Election of 2016',\n",
       " u'Prisons and Prisoners',\n",
       " u'Republican Party',\n",
       " u'Rock Climbing',\n",
       " u'Rollin Pierre E',\n",
       " u'Rosenstein Rod J',\n",
       " u'Russia',\n",
       " u'Saudi Arabia',\n",
       " u'Scott Ridley',\n",
       " u'Senate',\n",
       " u'Sentences (Criminal)',\n",
       " u'Sessions Jefferson B III',\n",
       " u'Social Media',\n",
       " u'Soundgarden (Music Group)',\n",
       " u'Special Prosecutors (Independent Counsel)',\n",
       " u'States (US)',\n",
       " u'Syria',\n",
       " u'Tambor Jeffrey',\n",
       " u'Terrorism',\n",
       " u'Theater',\n",
       " u'Therapy and Rehabilitation',\n",
       " u'Thorne Jack (1978- )',\n",
       " u'Times Square and 42nd Street (Manhattan NY)',\n",
       " u'Traffic Accidents and Safety',\n",
       " u'Travel and Vacations',\n",
       " u'Trump Donald J',\n",
       " u'United States',\n",
       " u'United States Defense and Military Forces',\n",
       " u'United States International Relations',\n",
       " u'United States Politics and Government',\n",
       " u'Vaccination and Immunization',\n",
       " u'WhatsApp Inc',\n",
       " u'World Health Organization',\n",
       " u'Youth',\n",
       " u'de Vries Marius'}"
      ]
     },
     "execution_count": 46,
     "metadata": {},
     "output_type": "execute_result"
    }
   ],
   "source": [
    "#clean and dedupe \n",
    "keywords = set(keywords_string.replace(\", \", \" \").split(\",\"))\n",
    "\n",
    "keywords"
   ]
  },
  {
   "cell_type": "code",
   "execution_count": 59,
   "metadata": {
    "collapsed": false,
    "scrolled": true
   },
   "outputs": [],
   "source": [
    "#save to csv along with name of newspaper and the timestamp\n",
    "from datetime import datetime\n",
    "\n",
    "current_time = str(datetime.now())"
   ]
  },
  {
   "cell_type": "code",
   "execution_count": 62,
   "metadata": {
    "collapsed": false
   },
   "outputs": [],
   "source": [
    "wf = open(\"nytimes_test.csv\", \"w\")\n",
    "\n",
    "for keyword in keywords:\n",
    "    wf.write(\"nytimes.com,%s,%s\\n\" %(current_time, keyword))\n",
    "\n",
    "wf.close()"
   ]
  },
  {
   "cell_type": "code",
   "execution_count": null,
   "metadata": {
    "collapsed": true
   },
   "outputs": [],
   "source": []
  }
 ],
 "metadata": {
  "kernelspec": {
   "display_name": "Python 2",
   "language": "python",
   "name": "python2"
  },
  "language_info": {
   "codemirror_mode": {
    "name": "ipython",
    "version": 2
   },
   "file_extension": ".py",
   "mimetype": "text/x-python",
   "name": "python",
   "nbconvert_exporter": "python",
   "pygments_lexer": "ipython2",
   "version": "2.7.9"
  }
 },
 "nbformat": 4,
 "nbformat_minor": 0
}
